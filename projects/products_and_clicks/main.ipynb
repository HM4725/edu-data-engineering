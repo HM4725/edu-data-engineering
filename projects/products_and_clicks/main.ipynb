{
 "cells": [
  {
   "cell_type": "code",
   "execution_count": null,
   "metadata": {},
   "outputs": [],
   "source": [
    "%pip install pandas gspread pymysql python-dotenv matplotlib seaborn"
   ]
  },
  {
   "cell_type": "markdown",
   "metadata": {},
   "source": [
    "### 1) 외부 데이터 수집\n",
    "\n",
    "##### pymysql: MySQL -> Local\n",
    "✅ 테이블 이름: products\n",
    "|id|name|price|created_at|updated_at|rank_id|\n",
    "|--|----|-----|----------|----------|-------|\n",
    "|int|varchar(255)|int|timestamp|timestamp|int|\n",
    "\n",
    "##### gspread: Google Spread -> Local\n",
    "✅ 시트 이름: click_events\n",
    "|customer_id|product_id|os|\n",
    "|-----------|----------|--|\n",
    "|uuid|int|'aos' \\| 'ios'|\n"
   ]
  },
  {
   "cell_type": "markdown",
   "metadata": {},
   "source": [
    "### 1-1. MySQL"
   ]
  },
  {
   "cell_type": "code",
   "execution_count": null,
   "metadata": {},
   "outputs": [],
   "source": [
    "import pymysql\n",
    "import os\n",
    "import dotenv\n",
    "import pandas as pd\n",
    "from datetime import datetime, timedelta"
   ]
  },
  {
   "cell_type": "code",
   "execution_count": null,
   "metadata": {},
   "outputs": [],
   "source": [
    "# point1: dotenv\n",
    "dotenv.load_dotenv(os.path.join(\"key\", \".env\"))\n",
    "DB_HOST = os.environ.get(\"DB_HOST\")\n",
    "DB_PORT = os.environ.get(\"DB_PORT\")\n",
    "DB_USER = os.environ.get(\"DB_USER\")\n",
    "DB_PASSWORD = os.environ.get(\"DB_PASSWORD\")\n",
    "DB_SCHEMA = os.environ.get(\"DB_SCHEMA\")"
   ]
  },
  {
   "cell_type": "code",
   "execution_count": null,
   "metadata": {},
   "outputs": [],
   "source": [
    "# quiz1: 오늘 날짜를 YYYY-MM-DD 형식의 문자열로 뽑아내기\n",
    "date_start = datetime.now() - timedelta(days=100)\n",
    "date_start_str = date_start.strftime(\"%Y-%m-%d\")\n",
    "date_end = datetime.now() - timedelta(days=1)\n",
    "date_end_str = date_end.strftime(\"%Y-%m-%d\")\n",
    "date_start_str, date_end_str"
   ]
  },
  {
   "cell_type": "code",
   "execution_count": null,
   "metadata": {},
   "outputs": [],
   "source": [
    "# point2: pymysql\n",
    "conn = pymysql.connect(host=DB_HOST, port=int(DB_PORT), user=DB_USER, password=DB_PASSWORD, db=DB_SCHEMA, charset='utf8')\n",
    "with conn.cursor() as cursor:\n",
    "    sql = \"SELECT id, price, rank_id FROM products WHERE created_at >= %s AND created_at < %s AND rank_id IS NOT NULL\"\n",
    "    cursor.execute(sql, (date_start_str, date_end_str))\n",
    "    rows = cursor.fetchall()\n",
    "conn.close()"
   ]
  },
  {
   "cell_type": "code",
   "execution_count": null,
   "metadata": {},
   "outputs": [],
   "source": [
    "df_products = pd.DataFrame(rows)\n",
    "df_products.columns = [\"product_id\", \"price\", \"rank_id\"]\n",
    "df_products"
   ]
  },
  {
   "cell_type": "markdown",
   "metadata": {},
   "source": [
    "### 1-2. Google Sheet API"
   ]
  },
  {
   "cell_type": "code",
   "execution_count": null,
   "metadata": {},
   "outputs": [],
   "source": [
    "import gspread"
   ]
  },
  {
   "cell_type": "code",
   "execution_count": null,
   "metadata": {},
   "outputs": [],
   "source": [
    "GSPREAD_KEY_FILE = os.path.join(\"key\", os.environ.get(\"GSPREAD_KEY_FILE\"))\n",
    "GSPREAD_FOLDER_ID = os.environ.get(\"GSPREAD_FOLDER_ID\")\n",
    "\n",
    "gc = gspread.service_account(filename=GSPREAD_KEY_FILE)"
   ]
  },
  {
   "cell_type": "code",
   "execution_count": null,
   "metadata": {},
   "outputs": [],
   "source": [
    "ss = gc.open(\"click_events\", folder_id=GSPREAD_FOLDER_ID)\n",
    "wks = ss.get_worksheet(0)\n",
    "data = wks.get_all_values()\n",
    "columns = data[0]\n",
    "columns[3] = \"datetime\"\n",
    "body = map(\n",
    "    lambda x: [x[0], int(x[1]), x[2], datetime.fromtimestamp(float(x[3]))], data[1:]\n",
    ")\n",
    "df_clicks = pd.DataFrame(body)\n",
    "df_clicks.columns = columns\n",
    "df_clicks"
   ]
  },
  {
   "cell_type": "markdown",
   "metadata": {},
   "source": [
    "### 2) 테이블 분석"
   ]
  },
  {
   "cell_type": "code",
   "execution_count": null,
   "metadata": {},
   "outputs": [],
   "source": [
    "df_products"
   ]
  },
  {
   "cell_type": "code",
   "execution_count": null,
   "metadata": {},
   "outputs": [],
   "source": [
    "df_clicks"
   ]
  },
  {
   "cell_type": "code",
   "execution_count": null,
   "metadata": {},
   "outputs": [],
   "source": [
    "df = df_clicks.merge(df_products, how=\"left\", on=\"product_id\")\n",
    "df"
   ]
  },
  {
   "cell_type": "code",
   "execution_count": null,
   "metadata": {},
   "outputs": [],
   "source": [
    "# rank_id, os별 click 개수\n",
    "series_analysis = df.groupby(['rank_id', 'os']).count()['product_id']\n",
    "series_analysis.name = \"nclicks\"\n",
    "df_analysis = series_analysis.reset_index()\n",
    "df_analysis"
   ]
  },
  {
   "cell_type": "markdown",
   "metadata": {},
   "source": [
    "### 3) 데이터 시각화"
   ]
  },
  {
   "cell_type": "code",
   "execution_count": null,
   "metadata": {},
   "outputs": [],
   "source": [
    "import matplotlib.pyplot as plt\n",
    "import seaborn as sns"
   ]
  },
  {
   "cell_type": "code",
   "execution_count": null,
   "metadata": {},
   "outputs": [],
   "source": [
    "# price, rank 상관 관계\n",
    "X = df['price']\n",
    "Y = df['rank_id']\n",
    "plt.scatter(X, Y)\n",
    "plt.xlabel('Price')\n",
    "plt.ylabel('Rank ID')\n",
    "plt.show()"
   ]
  },
  {
   "cell_type": "code",
   "execution_count": null,
   "metadata": {},
   "outputs": [],
   "source": [
    "plt.figure(figsize=(10, 6))\n",
    "sns.barplot(x='rank_id', y='nclicks', hue='os', data=df_analysis)\n",
    "plt.title('#Clicks by Rank ID and OS')\n",
    "plt.xlabel('Rank ID')\n",
    "plt.ylabel('#Clicks')\n",
    "plt.legend(title='OS')\n",
    "plt.show()"
   ]
  },
  {
   "cell_type": "code",
   "execution_count": null,
   "metadata": {},
   "outputs": [],
   "source": [
    "# 피벗 테이블 생성\n",
    "pivot_table = df_analysis.pivot(index='rank_id', columns='os', values='nclicks')\n",
    "\n",
    "# 히트맵 그리기\n",
    "plt.figure(figsize=(10, 6))\n",
    "sns.heatmap(pivot_table, annot=True, fmt='d', cmap='YlGnBu')\n",
    "plt.title('Heatmap of #Clicks by Rank ID and OS')\n",
    "plt.xlabel('OS')\n",
    "plt.ylabel('Rank ID')\n",
    "plt.show()"
   ]
  }
 ],
 "metadata": {
  "kernelspec": {
   "display_name": "data-analysis",
   "language": "python",
   "name": "python3"
  },
  "language_info": {
   "codemirror_mode": {
    "name": "ipython",
    "version": 3
   },
   "file_extension": ".py",
   "mimetype": "text/x-python",
   "name": "python",
   "nbconvert_exporter": "python",
   "pygments_lexer": "ipython3",
   "version": "3.8.19"
  }
 },
 "nbformat": 4,
 "nbformat_minor": 2
}
