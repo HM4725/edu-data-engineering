{
 "cells": [
  {
   "cell_type": "code",
   "execution_count": null,
   "metadata": {},
   "outputs": [],
   "source": [
    "%pip install pymysql python-dotenv"
   ]
  },
  {
   "cell_type": "code",
   "execution_count": null,
   "metadata": {},
   "outputs": [],
   "source": [
    "import pymysql\n",
    "from pymysql.cursors import SSCursor\n",
    "import os\n",
    "import dotenv\n",
    "from tqdm import tqdm"
   ]
  },
  {
   "cell_type": "code",
   "execution_count": null,
   "metadata": {},
   "outputs": [],
   "source": [
    "dotenv.load_dotenv(os.path.join(\"key\", \".env\"))\n",
    "DB_HOST = os.environ.get(\"DB_HOST\")\n",
    "DB_PORT = os.environ.get(\"DB_PORT\")\n",
    "DB_USER = os.environ.get(\"DB_USER\")\n",
    "DB_PASSWORD = os.environ.get(\"DB_PASSWORD\")\n",
    "DB_SCHEMA = os.environ.get(\"DB_SCHEMA\")"
   ]
  },
  {
   "cell_type": "code",
   "execution_count": null,
   "metadata": {},
   "outputs": [],
   "source": [
    "conn = pymysql.connect(host=DB_HOST, port=int(DB_PORT), user=DB_USER, password=DB_PASSWORD, db=DB_SCHEMA, charset='utf8')\n",
    "with conn.cursor() as cursor:\n",
    "    sql = \"show tables\"\n",
    "    cursor.execute(sql)\n",
    "    rows = cursor.fetchall()\n",
    "conn.close()\n",
    "rows"
   ]
  },
  {
   "cell_type": "code",
   "execution_count": null,
   "metadata": {},
   "outputs": [],
   "source": [
    "with pymysql.connect(host=DB_HOST, port=int(DB_PORT), user=DB_USER, password=DB_PASSWORD, db=DB_SCHEMA, charset='utf8') as conn:\n",
    "    with conn.cursor() as cursor: \n",
    "        sql = \"show tables\"\n",
    "        cursor.execute(sql)\n",
    "        rows = cursor.fetchall()\n",
    "rows"
   ]
  },
  {
   "cell_type": "code",
   "execution_count": null,
   "metadata": {},
   "outputs": [],
   "source": [
    "size = 0\n",
    "with pymysql.connect(host=DB_HOST, port=int(DB_PORT), user=DB_USER, password=DB_PASSWORD, db='sysbench_test', charset='utf8') as conn:\n",
    "    with conn.cursor() as cursor:\n",
    "        sql = \"select count(*) from sbtest1\"\n",
    "        print(sql + \"...\")\n",
    "        cursor.execute(sql)\n",
    "        nrows = cursor.fetchall()[0][0]\n",
    "        print(f\"nrows: {nrows}\")\n",
    "\n",
    "        sql = \"select * from sbtest1\"\n",
    "        print(sql + \"...\")\n",
    "        cursor.execute(sql)\n",
    "        for row in tqdm(cursor, total=nrows):\n",
    "            size += 1\n",
    "print(size)"
   ]
  },
  {
   "cell_type": "code",
   "execution_count": null,
   "metadata": {},
   "outputs": [],
   "source": [
    "size = 0\n",
    "with pymysql.connect(host=DB_HOST, port=int(DB_PORT), user=DB_USER, password=DB_PASSWORD, db='sysbench_test', charset='utf8') as conn:\n",
    "    with conn.cursor(SSCursor) as cursor:\n",
    "        sql = \"select count(*) from sbtest1\"\n",
    "        print(sql + \"...\")\n",
    "        cursor.execute(sql)\n",
    "        nrows = cursor.fetchall()[0][0]\n",
    "        print(f\"nrows: {nrows}\")\n",
    "\n",
    "        sql = \"select * from sbtest1\"\n",
    "        print(sql + \"...\")\n",
    "        cursor.execute(sql)\n",
    "        for row in tqdm(cursor, total=nrows):\n",
    "            size += 1\n",
    "print(size)"
   ]
  },
  {
   "cell_type": "code",
   "execution_count": null,
   "metadata": {},
   "outputs": [],
   "source": [
    "size = 0\n",
    "with pymysql.connect(host=DB_HOST, port=int(DB_PORT), user=DB_USER, password=DB_PASSWORD, db='sysbench_test', charset='utf8') as conn:\n",
    "    with conn.cursor(SSCursor) as cursor:\n",
    "        sql = \"select count(*) from sbtest1\"\n",
    "        print(sql + \"...\")\n",
    "        cursor.execute(sql)\n",
    "        nrows = cursor.fetchall()[0][0]\n",
    "        print(f\"nrows: {nrows}\")\n",
    "\n",
    "        sql = \"select * from sbtest1\"\n",
    "        print(sql + \"...\")\n",
    "        cursor.execute(sql)\n",
    "        \n",
    "        with tqdm(total=nrows, desc=\"Processing rows\") as pbar:\n",
    "            while True:\n",
    "                # 1000행씩 가져오기\n",
    "                rows = cursor.fetchmany(10000)\n",
    "                if not rows:\n",
    "                    break\n",
    "                \n",
    "                # 가져온 행들을 처리\n",
    "                size += len(rows)\n",
    "                \n",
    "                # 진행 상황 업데이트\n",
    "                pbar.update(len(rows))\n",
    "print(size)"
   ]
  }
 ],
 "metadata": {
  "kernelspec": {
   "display_name": "data-analysis",
   "language": "python",
   "name": "python3"
  },
  "language_info": {
   "codemirror_mode": {
    "name": "ipython",
    "version": 3
   },
   "file_extension": ".py",
   "mimetype": "text/x-python",
   "name": "python",
   "nbconvert_exporter": "python",
   "pygments_lexer": "ipython3",
   "version": "3.8.19"
  }
 },
 "nbformat": 4,
 "nbformat_minor": 2
}
