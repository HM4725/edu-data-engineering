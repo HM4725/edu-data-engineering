{
 "cells": [
  {
   "cell_type": "code",
   "execution_count": null,
   "metadata": {},
   "outputs": [],
   "source": [
    "%pip install feedparser pandas matplotlib tqdm konlpy wordcloud"
   ]
  },
  {
   "cell_type": "code",
   "execution_count": null,
   "metadata": {},
   "outputs": [],
   "source": [
    "import feedparser\n",
    "import pandas as pd\n",
    "import numpy as np\n",
    "import matplotlib.pyplot as plt\n",
    "from tqdm import tqdm\n",
    "from konlpy.tag import Okt\n",
    "from collections import Counter\n",
    "from wordcloud import WordCloud\n",
    "from PIL import Image\n",
    "\n",
    "okt = Okt()"
   ]
  },
  {
   "cell_type": "code",
   "execution_count": null,
   "metadata": {},
   "outputs": [],
   "source": [
    "feed_df = pd.read_csv(\"dataset/feed_specs.csv\")\n",
    "feed_df"
   ]
  },
  {
   "cell_type": "code",
   "execution_count": null,
   "metadata": {},
   "outputs": [],
   "source": [
    "publishers = set(feed_df[\"publisher\"].unique())\n",
    "categories = set()\n",
    "for cate in feed_df[\"categories\"].unique():\n",
    "    if \"|\" in cate:\n",
    "        cate1, cate2 = cate.split(\"|\")\n",
    "        categories.add(cate1)\n",
    "        categories.add(cate2)\n",
    "    else:\n",
    "        categories.add(cate)\n",
    "\n",
    "categories"
   ]
  },
  {
   "cell_type": "code",
   "execution_count": null,
   "metadata": {},
   "outputs": [],
   "source": [
    "category = \"entertainment\"  # modify here!\n",
    "\n",
    "economy_feed_df = feed_df[feed_df[\"categories\"].str.contains(category)]\n",
    "\n",
    "titles = []\n",
    "descriptions = []\n",
    "\n",
    "for _, (publisher, title, categories, url) in tqdm(\n",
    "    economy_feed_df.iterrows(), total=len(economy_feed_df)\n",
    "):\n",
    "    feed = feedparser.parse(url)\n",
    "    for entry in feed[\"entries\"]:\n",
    "        titles.append(entry[\"title\"])\n",
    "        descriptions.append(entry[\"description\"])"
   ]
  },
  {
   "cell_type": "code",
   "execution_count": null,
   "metadata": {},
   "outputs": [],
   "source": [
    "title = \" \".join(titles)\n",
    "description = \" \".join(descriptions)\n",
    "\n",
    "target = title + \" \" + description\n",
    "\n",
    "counts = Counter(filter(lambda s: len(s) > 1, okt.nouns(target)))\n",
    "\n",
    "# preprocessing\n",
    "for publisher in publishers:\n",
    "    if publisher in counts:\n",
    "        del counts[publisher]\n",
    "\n",
    "for blacklist in [\"기자\"]:\n",
    "    if blacklist in counts:\n",
    "        del counts[blacklist]\n",
    "\n",
    "counts.most_common(20)"
   ]
  },
  {
   "cell_type": "code",
   "execution_count": null,
   "metadata": {},
   "outputs": [],
   "source": [
    "font_path = r\"C:\\Windows\\Fonts\\malgun.ttf\"\n",
    "mask = np.array(Image.open(\"img/cloud.png\"))\n",
    "wc = WordCloud(\n",
    "    font_path=font_path,\n",
    "    background_color=\"#07061700\",\n",
    "    mask=mask,\n",
    "    width=2000,\n",
    "    height=1600,\n",
    "    max_words=300,\n",
    ")\n",
    "wc.generate_from_frequencies(counts)\n",
    "\n",
    "plt.figure(figsize=(10, 8))\n",
    "plt.imshow(wc, interpolation=\"bilinear\")\n",
    "plt.axis(\"off\")\n",
    "plt.show()"
   ]
  }
 ],
 "metadata": {
  "kernelspec": {
   "display_name": ".venv",
   "language": "python",
   "name": "python3"
  },
  "language_info": {
   "codemirror_mode": {
    "name": "ipython",
    "version": 3
   },
   "file_extension": ".py",
   "mimetype": "text/x-python",
   "name": "python",
   "nbconvert_exporter": "python",
   "pygments_lexer": "ipython3",
   "version": "3.8.19"
  }
 },
 "nbformat": 4,
 "nbformat_minor": 2
}
